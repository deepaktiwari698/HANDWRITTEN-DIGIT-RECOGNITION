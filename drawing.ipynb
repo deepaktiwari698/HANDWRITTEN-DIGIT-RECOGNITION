{
 "cells": [
  {
   "cell_type": "code",
   "execution_count": 1,
   "id": "6c09fc71-180e-493f-a022-843e9f9bde93",
   "metadata": {},
   "outputs": [
    {
     "name": "stdout",
     "output_type": "stream",
     "text": [
      "pygame 2.4.0 (SDL 2.26.4, Python 3.10.5)\n",
      "Hello from the pygame community. https://www.pygame.org/contribute.html\n"
     ]
    }
   ],
   "source": [
    "import pygame, sys\n",
    "from pygame.locals import *\n",
    "from pygame.locals import QUIT, MOUSEMOTION, MOUSEBUTTONDOWN, MOUSEBUTTONUP, KEYDOWN\n",
    "import numpy as np\n",
    "from keras.models import load_model\n",
    "import cv2"
   ]
  },
  {
   "cell_type": "code",
   "execution_count": 2,
   "id": "729cda32-69bf-4335-953f-18ed46db1c94",
   "metadata": {},
   "outputs": [],
   "source": [
    "# In[2]:\n",
    "#testing = pygame.Surface((640, 480))\n",
    "\n"
   ]
  },
  {
   "cell_type": "code",
   "execution_count": 3,
   "id": "2aaafc75-2e70-4653-8171-a914b8e67704",
   "metadata": {},
   "outputs": [],
   "source": [
    "WINDOWSIZEX = 640\n",
    "WINDOWSIZEY = 440\n",
    "\n",
    "BOUNDRYINC= 5\n",
    "\n",
    "WHITE = (255,255,255)\n",
    "BLACK = (0,0,0)\n",
    "RED= (255,0,0)\n",
    "IMAZESAVE = False\n",
    "\n"
   ]
  },
  {
   "cell_type": "code",
   "execution_count": null,
   "id": "af3757e8-fc7d-4740-875b-0eb1c530225f",
   "metadata": {},
   "outputs": [],
   "source": [
    "# MODEL = load_model(\"bestmodel.h5\")\n",
    "MODEL = load_model(\"bestmodel2.h5\")"
   ]
  },
  {
   "cell_type": "code",
   "execution_count": null,
   "id": "986fcbb0-acd4-49ef-9b8b-54ae44295055",
   "metadata": {},
   "outputs": [],
   "source": [
    "\n",
    "LABELS = {0:\"zero\", 1: \"one\", 2: \"two\", 3: \"three\", 4: \"four\", 5: \"five\", 6: \"six\", 7: \"seven\", 8: \"eight\", 9: \"nine\"}\n"
   ]
  },
  {
   "cell_type": "code",
   "execution_count": null,
   "id": "a945d0db-9428-47d3-9318-ea18d47b43cc",
   "metadata": {},
   "outputs": [],
   "source": []
  },
  {
   "cell_type": "code",
   "execution_count": 2,
   "id": "bdfcada7-1f50-4242-b825-5ec34be9c166",
   "metadata": {},
   "outputs": [
    {
     "ename": "NameError",
     "evalue": "name 'pygame' is not defined",
     "output_type": "error",
     "traceback": [
      "\u001b[0;31m---------------------------------------------------------------------------\u001b[0m",
      "\u001b[0;31mNameError\u001b[0m                                 Traceback (most recent call last)",
      "Input \u001b[0;32mIn [2]\u001b[0m, in \u001b[0;36m<cell line: 4>\u001b[0;34m()\u001b[0m\n\u001b[1;32m      1\u001b[0m \u001b[38;5;66;03m# In[ ]:\u001b[39;00m\n\u001b[1;32m      2\u001b[0m \n\u001b[1;32m      3\u001b[0m \u001b[38;5;66;03m# Initialize pygame\u001b[39;00m\n\u001b[0;32m----> 4\u001b[0m \u001b[43mpygame\u001b[49m\u001b[38;5;241m.\u001b[39minit()\n\u001b[1;32m      5\u001b[0m FONT \u001b[38;5;241m=\u001b[39m pygame\u001b[38;5;241m.\u001b[39mfont\u001b[38;5;241m.\u001b[39mFont(\u001b[38;5;28;01mNone\u001b[39;00m, \u001b[38;5;241m24\u001b[39m) \n\u001b[1;32m      6\u001b[0m \u001b[38;5;66;03m# FONT = pygame.font.Font(\"freesensebold.ttf\", 18)\u001b[39;00m\n",
      "\u001b[0;31mNameError\u001b[0m: name 'pygame' is not defined"
     ]
    }
   ],
   "source": [
    "# In[ ]:\n",
    "\n",
    "# Initialize pygame\n",
    "pygame.init()\n",
    "FONT = pygame.font.Font(None, 24) \n",
    "# FONT = pygame.font.Font(\"freesensebold.ttf\", 18)\n",
    "DISPLAYSURF = pygame.display.set_mode((WINDOWSIZEX, WINDOWSIZEY))\n",
    "\n",
    "pygame.display.set_caption(\"digit board\") \n",
    "iswriting  = False\n",
    "number_xcord = []\n",
    "number_ycord = []\n",
    "\n",
    "image_cnt = 1\n",
    "PREDICT = True\n",
    "\n",
    "while True:\n",
    "    for event in pygame.event.get():\n",
    "        if event.type == QUIT:\n",
    "            pygame.quit()\n",
    "            sys.exit()\n",
    "            \n",
    "        if event.type == MOUSEMOTION and iswriting:\n",
    "            xcord, ycord = event.pos\n",
    "            pygame.draw.circle(DISPLAYSURF, WHITE, (xcord, ycord), 4,0 )\n",
    "            \n",
    "            number_xcord.append(xcord)\n",
    "            number_ycord.append(ycord)\n",
    "        \n",
    "        if event.type == MOUSEBUTTONDOWN:\n",
    "            iswriting = True\n",
    "\n",
    "        if event.type == MOUSEBUTTONUP:\n",
    "            iswriting = False\n",
    "            number_xcord = sorted(number_xcord)\n",
    "            number_ycord = sorted(number_ycord)\n",
    "\n",
    "            rect_min_x,  rect_max_x= max(number_xcord[0]-BOUNDRYINC, 0),min(WINDOWSIZEX, number_xcord[-1]+BOUNDRYINC)\n",
    "            rect_min_Y,  rect_max_Y= max(number_ycord[0]-BOUNDRYINC ,0),min(number_ycord[-1]+BOUNDRYINC, WINDOWSIZEX)\n",
    "\n",
    "            number_xcord = []\n",
    "            number_ycord = []\n",
    "            \n",
    "            pygame.draw.rect(DISPLAYSURF, RED, (rect_min_x, rect_min_Y, rect_max_x - rect_min_x, rect_max_Y - rect_min_Y), 2)\n",
    "                \n",
    "            img_arr = np.array(pygame.PixelArray(DISPLAYSURF))[rect_min_x: rect_max_x, rect_min_Y: rect_max_Y].T.astype(np.float32)\n",
    "                \n",
    "            if IMAZESAVE:\n",
    "                cv2.imwrite(\"image.png\")\n",
    "                image_cnt +=1\n",
    "                    \n",
    "            if PREDICT:\n",
    "                image = cv2.resize(img_arr, (28,28))\n",
    "                image = np.pad(image, (10,10), 'constant', constant_values = 0)\n",
    "                image = cv2.resize(image, (28,28))/255\n",
    "                    \n",
    "                label = str(LABELS[np.argmax(MODEL.predict(image.reshape(1,28,28,1)))])\n",
    "                    \n",
    "                textSurface = FONT.render(label, True, RED, WHITE)\n",
    "                textRecObj = textSurface.get_rect()\n",
    "                textRecObj.left, textRecObj.bottom = rect_min_x, rect_max_Y \n",
    "                    \n",
    "                \n",
    "                DISPLAYSURF.blit(textSurface, textRecObj)\n",
    "               \n",
    "        if event.type == KEYDOWN:\n",
    "            if event.unicode == \"n\":\n",
    "                DISPLAYSURF.fill(BLACK)\n",
    "    pygame.display.update()                \n"
   ]
  },
  {
   "cell_type": "code",
   "execution_count": 3,
   "id": "a86b973e-5841-4d89-887a-786424ee1f12",
   "metadata": {},
   "outputs": [
    {
     "name": "stdout",
     "output_type": "stream",
     "text": [
      "TensorFlow version: 2.8.2\n",
      "Keras version: 2.8.0\n"
     ]
    }
   ],
   "source": [
    "import tensorflow as tf\n",
    "import keras\n",
    "\n",
    "print(\"TensorFlow version:\", tf.__version__)\n",
    "print(\"Keras version:\", keras.__version__)\n"
   ]
  },
  {
   "cell_type": "code",
   "execution_count": null,
   "id": "ee598a35-b8d8-4dd0-afd9-da4a92858cbf",
   "metadata": {},
   "outputs": [],
   "source": []
  }
 ],
 "metadata": {
  "kernelspec": {
   "display_name": "Python 3 (ipykernel)",
   "language": "python",
   "name": "python3"
  },
  "language_info": {
   "codemirror_mode": {
    "name": "ipython",
    "version": 3
   },
   "file_extension": ".py",
   "mimetype": "text/x-python",
   "name": "python",
   "nbconvert_exporter": "python",
   "pygments_lexer": "ipython3",
   "version": "3.10.5"
  }
 },
 "nbformat": 4,
 "nbformat_minor": 5
}
